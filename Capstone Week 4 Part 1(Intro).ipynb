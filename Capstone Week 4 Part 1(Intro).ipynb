{
    "cells": [
        {
            "metadata": {
                "collapsed": true
            },
            "cell_type": "markdown",
            "source": "# Part I\n\n### Description of the problem\n\nToronto's competetive restaurant scene is an impressive one thanks to the various chefs and restauranteurs who constantly bring people new places and cuisines to try. But, where is the best place to open up a Mexican eatery in the Greater Toronto Area?\n\nOver the next 50 years, the city is projected to grow at a thrilling rate. In 50 years, the GTA\u2019s population will double. The city\u2019s diverse population, currently at 2.9 million, will increase to almost 5 million. Nearly 10 per cent of new Torontonians will cram themselves into the core, a sliver that accounts for only three per cent of the city\u2019s land mass.\n\nAs a result - all things being equal and acknowledging the fact that opening a restaurant business requires deep pockets and lots of hard work, it would seem to be a good choice to open up a Mexican eatery in the core of the city. The question to be answered then is, which neighborhoods in Downtown Toronto would represent the best option.\n\nDiscussion of the background\nMy client, a wealthy and successful restauranteur from Mexico is eager to expand business operations into Toronto. They want to create an authentic Mexican eatery that will serve and offer the full richness of Mexican culture and cuisine to the people of Downtown Toronto.\n\nSince Downtown Toronto is very competetive, my client needs insight from data in order to decide in which neighborhood to establish this authentic Mexican eatery."
        }
    ],
    "metadata": {
        "kernelspec": {
            "name": "python3",
            "display_name": "Python 3.7",
            "language": "python"
        },
        "language_info": {
            "name": "python",
            "version": "3.7.9",
            "mimetype": "text/x-python",
            "codemirror_mode": {
                "name": "ipython",
                "version": 3
            },
            "pygments_lexer": "ipython3",
            "nbconvert_exporter": "python",
            "file_extension": ".py"
        }
    },
    "nbformat": 4,
    "nbformat_minor": 1
}