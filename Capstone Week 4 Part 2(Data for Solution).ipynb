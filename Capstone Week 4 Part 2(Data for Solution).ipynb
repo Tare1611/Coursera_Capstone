{
    "cells": [
        {
            "metadata": {
                "collapsed": true
            },
            "cell_type": "markdown",
            "source": "# Part II\n\n### Description of the data\n\nThis project will utilize publicly available data from Wikipedia and Foursquare.\n\nSpecifically, all Toronto neighborhood details along with their postal codes are available here: https://en.wikipedia.org/wiki/List_of_postal_codes_of_Canada:_M\n\nThe focus of this project will be the Downtown Toronto neighborhoods that will be extracted and analyzed accordingly.\n\nThe Foursquare API will be utilized to obtain the geographical location data for Downtown Toronto, and data will be used to explore the restaurant venues in the neighbourhoods. The restaurants will provide the categories needed for the analysis and these will be used to determine the viability of the selected locations for the restaurant.\n\nHow data will be used to solve the problem\nThe data from Wikipedia and Foursquare will be explored and analyzed by considering the restaurant venues in Downtown Toronto. The restaurants from the core of the city will be reviewed in terms of the types or categories of restaurants within a specific radius.\n\nThe data will be utilized to come up with a frequency analysis for a Mexican eatery in Downtown Toronto, and to come up with the best choices of neighborhoods for my client."
        }
    ],
    "metadata": {
        "kernelspec": {
            "name": "python3",
            "display_name": "Python 3.7",
            "language": "python"
        },
        "language_info": {
            "name": "python",
            "version": "3.7.9",
            "mimetype": "text/x-python",
            "codemirror_mode": {
                "name": "ipython",
                "version": 3
            },
            "pygments_lexer": "ipython3",
            "nbconvert_exporter": "python",
            "file_extension": ".py"
        }
    },
    "nbformat": 4,
    "nbformat_minor": 1
}